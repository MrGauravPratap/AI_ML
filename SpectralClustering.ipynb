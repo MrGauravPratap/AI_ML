{
 "cells": [
  {
   "cell_type": "code",
   "execution_count": 1,
   "id": "3ecb3f89-113c-45b1-a63e-e92df144ed89",
   "metadata": {},
   "outputs": [],
   "source": [
    "# Defining the adjaceny matix \n",
    "import numpy as np \n",
    "A = np.array([ \n",
    "\t[0, 1, 1, 0, 0, 0, 0, 0, 1, 1], \n",
    "\t[1, 0, 1, 0, 0, 0, 0, 0, 0, 0], \n",
    "\t[1, 1, 0, 0, 0, 0, 0, 0, 0, 0], \n",
    "\t[0, 0, 0, 0, 1, 1, 0, 0, 0, 0], \n",
    "\t[0, 0, 0, 1, 0, 1, 0, 0, 0, 0], \n",
    "\t[0, 0, 0, 1, 1, 0, 1, 1, 0, 0], \n",
    "\t[0, 0, 0, 0, 0, 1, 0, 1, 0, 0], \n",
    "\t[0, 0, 0, 0, 0, 1, 1, 0, 0, 0], \n",
    "\t[1, 0, 0, 0, 0, 0, 0, 0, 0, 1], \n",
    "\t[1, 0, 0, 0, 0, 0, 0, 0, 1, 0]]) \n"
   ]
  },
  {
   "cell_type": "code",
   "execution_count": 3,
   "id": "7ba45052-d5ae-4562-907d-1b6067a1ed58",
   "metadata": {},
   "outputs": [
    {
     "name": "stdout",
     "output_type": "stream",
     "text": [
      "[[4 0 0 0 0 0 0 0 0 0]\n",
      " [0 2 0 0 0 0 0 0 0 0]\n",
      " [0 0 2 0 0 0 0 0 0 0]\n",
      " [0 0 0 2 0 0 0 0 0 0]\n",
      " [0 0 0 0 2 0 0 0 0 0]\n",
      " [0 0 0 0 0 4 0 0 0 0]\n",
      " [0 0 0 0 0 0 2 0 0 0]\n",
      " [0 0 0 0 0 0 0 2 0 0]\n",
      " [0 0 0 0 0 0 0 0 2 0]\n",
      " [0 0 0 0 0 0 0 0 0 2]]\n"
     ]
    }
   ],
   "source": [
    "D = np.diag(A.sum(axis=1)) \n",
    "print(D) \n"
   ]
  },
  {
   "cell_type": "code",
   "execution_count": 5,
   "id": "3a2c1421-8326-47df-8404-f57bc93bb389",
   "metadata": {},
   "outputs": [
    {
     "name": "stdout",
     "output_type": "stream",
     "text": [
      "[[ 4 -1 -1  0  0  0  0  0 -1 -1]\n",
      " [-1  2 -1  0  0  0  0  0  0  0]\n",
      " [-1 -1  2  0  0  0  0  0  0  0]\n",
      " [ 0  0  0  2 -1 -1  0  0  0  0]\n",
      " [ 0  0  0 -1  2 -1  0  0  0  0]\n",
      " [ 0  0  0 -1 -1  4 -1 -1  0  0]\n",
      " [ 0  0  0  0  0 -1  2 -1  0  0]\n",
      " [ 0  0  0  0  0 -1 -1  2  0  0]\n",
      " [-1  0  0  0  0  0  0  0  2 -1]\n",
      " [-1  0  0  0  0  0  0  0 -1  2]]\n"
     ]
    }
   ],
   "source": [
    "L = D-A \n",
    "print(L) \n"
   ]
  }
 ],
 "metadata": {
  "kernelspec": {
   "display_name": "Python 3 (ipykernel)",
   "language": "python",
   "name": "python3"
  },
  "language_info": {
   "codemirror_mode": {
    "name": "ipython",
    "version": 3
   },
   "file_extension": ".py",
   "mimetype": "text/x-python",
   "name": "python",
   "nbconvert_exporter": "python",
   "pygments_lexer": "ipython3",
   "version": "3.12.7"
  }
 },
 "nbformat": 4,
 "nbformat_minor": 5
}
